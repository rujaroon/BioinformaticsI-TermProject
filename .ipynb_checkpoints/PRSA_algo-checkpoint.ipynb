{
 "cells": [
  {
   "cell_type": "code",
   "execution_count": 13,
   "metadata": {},
   "outputs": [],
   "source": [
    "def calculateConsecPairs(rna,MinStem,MinLoop):\n",
    "    judge = [('A','U'),('U','A'),('G','C'),('C','G'),('G','U'),('U','G')]\n",
    "    n = len(rna)-1\n",
    "    pairs = []\n",
    "    for i in range(1, n-2*MinStem-MinLoop+1):\n",
    "        for j in range(i+2*MinStem+MinLoop-1, n+1):\n",
    "            conPair = 0\n",
    "            k = 0\n",
    "            while k <= ((j-i-MinLoop+1)/2):\n",
    "                if (rna[i+k],rna[j-k]) in judge:\n",
    "                    conPair += 1\n",
    "                    if conPair >= MinStem:\n",
    "                        tempPair = (i,j,conPair)\n",
    "                        pairs.append(tempPair)\n",
    "                else:\n",
    "                    break\n",
    "                k += 1\n",
    "    return pairs"
   ]
  },
  {
   "cell_type": "code",
   "execution_count": 39,
   "metadata": {},
   "outputs": [],
   "source": [
    "def mergePairs(pairs):\n",
    "    pairList = []\n",
    "    s = []\n",
    "    t = []\n",
    "    i = -1\n",
    "    for e in pairs:\n",
    "        if (e[0],e[1]) not in s:\n",
    "            i += 1\n",
    "            s.append((e[0],e[1]))\n",
    "            t.append((e[2],))\n",
    "        else:\n",
    "            t[i] = t[i] + (e[2],)\n",
    "    for i in range(len(s)):\n",
    "        pairList.append(s[i]+(t[i],))\n",
    "    return pairList"
   ]
  },
  {
   "cell_type": "code",
   "execution_count": 43,
   "metadata": {},
   "outputs": [
    {
     "data": {
      "text/plain": [
       "[(2, 14, (3, 4)),\n",
       " (2, 20, (3,)),\n",
       " (3, 13, (3,)),\n",
       " (3, 21, (3,)),\n",
       " (8, 22, (3,)),\n",
       " (9, 19, (3, 4)),\n",
       " (10, 18, (3,)),\n",
       " (11, 20, (3,))]"
      ]
     },
     "execution_count": 43,
     "metadata": {},
     "output_type": "execute_result"
    }
   ],
   "source": [
    "rna = '_ACGUGAAGGCUACGAUAGUGCCAG' # index start at 1 by this algo\n",
    "MinStem = 3\n",
    "MinLoop = 3\n",
    "pairs = calculateConsecPairs(rna,MinStem,MinLoop)\n",
    "pairList = mergePairs(pairs)\n",
    "pairList"
   ]
  },
  {
   "cell_type": "code",
   "execution_count": 45,
   "metadata": {},
   "outputs": [
    {
     "data": {
      "text/plain": [
       "1"
      ]
     },
     "execution_count": 45,
     "metadata": {},
     "output_type": "execute_result"
    }
   ],
   "source": [
    "len(pairList[1][2])"
   ]
  },
  {
   "cell_type": "code",
   "execution_count": null,
   "metadata": {},
   "outputs": [],
   "source": []
  }
 ],
 "metadata": {
  "kernelspec": {
   "display_name": "Python 3",
   "language": "python",
   "name": "python3"
  },
  "language_info": {
   "codemirror_mode": {
    "name": "ipython",
    "version": 3
   },
   "file_extension": ".py",
   "mimetype": "text/x-python",
   "name": "python",
   "nbconvert_exporter": "python",
   "pygments_lexer": "ipython3",
   "version": "3.8.5"
  }
 },
 "nbformat": 4,
 "nbformat_minor": 4
}
